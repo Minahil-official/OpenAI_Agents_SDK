{
  "nbformat": 4,
  "nbformat_minor": 0,
  "metadata": {
    "colab": {
      "provenance": [],
      "authorship_tag": "ABX9TyMju5ha8T2avJMvfUsPpZH4",
      "include_colab_link": true
    },
    "kernelspec": {
      "name": "python3",
      "display_name": "Python 3"
    },
    "language_info": {
      "name": "python"
    }
  },
  "cells": [
    {
      "cell_type": "markdown",
      "metadata": {
        "id": "view-in-github",
        "colab_type": "text"
      },
      "source": [
        "<a href=\"https://colab.research.google.com/github/Minahil-official/OpenAI_Agents_SDK/blob/main/Triage_agent.ipynb\" target=\"_parent\"><img src=\"https://colab.research.google.com/assets/colab-badge.svg\" alt=\"Open In Colab\"/></a>"
      ]
    },
    {
      "cell_type": "code",
      "execution_count": 77,
      "metadata": {
        "id": "monQrOiPEYJC"
      },
      "outputs": [],
      "source": [
        "! pip install openai-agents -q"
      ]
    },
    {
      "cell_type": "code",
      "source": [
        "import nest_asyncio\n",
        "nest_asyncio.apply()\n"
      ],
      "metadata": {
        "id": "QbXodqOxJyKO"
      },
      "execution_count": 78,
      "outputs": []
    },
    {
      "cell_type": "code",
      "source": [
        "from agents import Agent, Runner, OpenAIChatCompletionsModel, AsyncOpenAI,set_tracing_disabled\n",
        "set_tracing_disabled(disabled=True)\n",
        "from google.colab import userdata\n",
        "GEMINI_API_KEY = userdata.get('video_process')\n",
        "provider = AsyncOpenAI(\n",
        "    api_key=GEMINI_API_KEY,\n",
        "    base_url=\"https://generativelanguage.googleapis.com/v1beta/openai/\"\n",
        ")\n",
        "model = OpenAIChatCompletionsModel(\n",
        "    model = \"gemini-2.0-flash\",\n",
        "    openai_client=provider\n",
        ")"
      ],
      "metadata": {
        "id": "m-xe2IcHEip7"
      },
      "execution_count": 79,
      "outputs": []
    },
    {
      "cell_type": "code",
      "source": [
        "from agents import enable_verbose_stdout_logging,function_tool\n",
        "\n",
        "\n",
        "Devops_agent = Agent(\n",
        "    name=\"DevOps Assistant\",\n",
        "    instructions=\"\"\"\n",
        "    You are a helpful and knowledgeable assistant specializing in DevOps.\n",
        "    Your job is to explain DevOps concepts such as CI/CD, infrastructure as code, automation, containerization (Docker, Kubernetes), monitoring, deployment pipelines, GitOps, and related tools like Jenkins, GitHub Actions, and Terraform.\n",
        "    Provide accurate, beginner-friendly explanations to learners.\n",
        "    \"\"\",\n",
        "    model=model,\n",
        "    handoff_description=\"DevOps Expert\"\n",
        ")\n",
        "\n",
        "OpenAI_tech_agent = Agent(\n",
        "    name=\"OpenAI Tech Assistant\",\n",
        "    instructions=\"\"\"\n",
        "    You are a helpful assistant providing information about OpenAI technologies, including GPT models, fine-tuning, APIs, and related tools.\n",
        "    Your job is to answer questions and provide updates about how OpenAI's tech is applied in various fields.\n",
        "    \"\"\",\n",
        "    model=model,\n",
        "    handoff_description=\"OpenAI Tech Expert\")\n",
        "\n"
      ],
      "metadata": {
        "id": "i4P7P2jNEwT8"
      },
      "execution_count": 80,
      "outputs": []
    },
    {
      "cell_type": "code",
      "source": [
        "Devops_tool = Devops_agent.as_tool(\n",
        "    tool_name=\"devops_expert_tool\",\n",
        "    tool_description=\"Explains DevOps concepts and tools like CI/CD, Docker, Jenkins, and more.\"\n",
        ")\n",
        "\n",
        "OpenAI_tool = OpenAI_tech_agent.as_tool(\n",
        "    tool_name=\"openai_tech_tool\",\n",
        "    tool_description=\"Shares updates and insights on OpenAI technologies, including GPT and APIs.\"\n",
        ")\n",
        "\n",
        "\n",
        "web_development = Agent(\n",
        "    name=\"Web Developer Assistant\",\n",
        "    instructions=\"\"\"\n",
        "You are a helpful and knowledgeable web development assistant .\n",
        "Your job is to answer questions related to web development, including front-end and back-end technologies, frameworks, tools, and best practices.\n",
        "Provide clear, accurate, and beginner-friendly guidance to students and professionals learning through Panaverse.\n",
        "Only answer questions that are relevant to web development or Panaverse’s web-related curriculum.\n",
        "\"\"\",\n",
        "    model=model,\n",
        "    handoff_description=\"Web Development Expert \"\n",
        ")\n",
        "\n",
        "Mobile_development = Agent(\n",
        "    name=\"Mobile Development Assistant\",\n",
        "    instructions=\"\"\"\n",
        "You are a helpful and knowledgeable mobile development assistant .\n",
        "You specialize in answering questions related to mobile app development, including Flutter, React Native, native Android (Java/Kotlin), and iOS (Swift) technologies.\n",
        "Provide clear, beginner-friendly explanations and assist students enrolled in Panaverse mobile development tracks.\n",
        "Only respond to questions relevant to mobile development or Panaverse's mobile-related curriculum.\n",
        "\"\"\",\n",
        "    model=model,\n",
        "    handoff_description=\"Mobile Development Expert\"\n",
        ")\n",
        "\n",
        "Agentic_ai_agent = Agent(\n",
        "    name=\"Agentic AI Assistant\",\n",
        "    instructions=\"\"\"\n",
        "You are a helpful and knowledgeable assistant specializing in DevOps.\n",
        "Your job is to explain DevOps concepts such as CI/CD, infrastructure as code, automation, containerization (Docker, Kubernetes), monitoring, deployment pipelines, GitOps, and related tools like Jenkins, GitHub Actions, and Terraform.\n",
        "Provide accurate, beginner-friendly explanations and assist learners at all levels.\n",
        "\"\"\",\n",
        "    model=model,\n",
        "    handoff_description=\"Agentic AI Expert\",\n",
        "    tools = [Devops_tool, OpenAI_tool]\n",
        "\n",
        "\n",
        ")\n"
      ],
      "metadata": {
        "id": "hzQbF8fv6OwH"
      },
      "execution_count": 81,
      "outputs": []
    },
    {
      "cell_type": "code",
      "source": [
        "triage_Agent = Agent(\n",
        "    name = \"triage_Agent\",\n",
        "    instructions=\"\"\"You are a general-purpose assistant that triages user queries and delegates them to the most relevant expert agent.\n",
        "You should directly hand off the conversation based on topic:\n",
        "\n",
        "- If the question is about DevOps, CI/CD, Docker, or GitOps → Agentic AI Assistant\n",
        "- If it’s about frontend/backend web dev or frameworks → Web Developer Assistant\n",
        "- If it’s about mobile dev like Flutter or Android → Mobile Development Assistant\n",
        "\n",
        "Do not ask the user where to send the query. Decide confidently based on the message.\n",
        "\"\"\",\n",
        "    model = model,\n",
        "    handoffs=[web_development,Mobile_development,Agentic_ai_agent]\n",
        "\n",
        ")"
      ],
      "metadata": {
        "id": "jFuvEWhD6S_D"
      },
      "execution_count": 82,
      "outputs": []
    },
    {
      "cell_type": "code",
      "source": [
        "response = Runner.run_sync(starting_agent=triage_Agent, input=\"tell me about CI in details\")\n",
        "print(response.final_output)\n"
      ],
      "metadata": {
        "colab": {
          "base_uri": "https://localhost:8080/"
        },
        "id": "A43sOpCIHn7w",
        "outputId": "0086b5b0-8b95-42eb-f105-3033dfa0ab6d"
      },
      "execution_count": 84,
      "outputs": [
        {
          "output_type": "stream",
          "name": "stdout",
          "text": [
            "Okay, let's dive into Continuous Integration (CI).\n",
            "\n",
            "**What is Continuous Integration?**\n",
            "\n",
            "Continuous Integration is a DevOps practice where developers regularly merge their code changes into a central repository, after which automated builds and tests are run. CI most often refers to the build or integration stage of the software release process and requires both automation and cultural commitment. The key goals of CI are to find and address integration bugs quicker, improve software quality, and reduce the time it takes to validate and release new software updates.\n",
            "\n",
            "**Here's a breakdown of the key aspects:**\n",
            "\n",
            "*   **Regular Code Integration:** Developers on a team integrate their code into a shared repository (like Git) frequently – ideally, multiple times a day. This contrasts with traditional development approaches where developers might work in isolation for extended periods and then try to merge their changes all at once.\n",
            "\n",
            "*   **Automated Build Process:** Each code integration triggers an automated build process. This means the system automatically compiles the code, packages it, and prepares it for testing.\n",
            "\n",
            "*   **Automated Testing:** After the build, an automated suite of tests is run. These tests can include unit tests (testing individual components), integration tests (testing how components interact), and potentially other types of tests like static code analysis.\n",
            "\n",
            "*   **Fast Feedback:** The results of the build and tests are provided to the developers quickly. If the build fails or tests fail, developers can immediately identify and fix the issues.\n",
            "\n",
            "**Benefits of Continuous Integration:**\n",
            "\n",
            "*   **Early Bug Detection:** Integration issues and bugs are caught early in the development cycle, when they are easier and cheaper to fix.\n",
            "*   **Improved Code Quality:** Frequent testing and integration lead to higher code quality.\n",
            "*   **Reduced Integration Problems:** Integrating code frequently reduces the complexity and risks associated with large, infrequent merges.\n",
            "*   **Faster Release Cycles:** Automation and early bug detection speed up the release process.\n",
            "*   **Increased Team Productivity:** Developers spend less time debugging integration issues and more time developing new features.\n",
            "\n",
            "**Key Components of a CI System:**\n",
            "\n",
            "*   **Version Control System (e.g., Git):**  A central repository to manage code changes.\n",
            "*   **CI Server (e.g., Jenkins, CircleCI, GitLab CI, GitHub Actions):**  The automation engine that monitors the repository, triggers builds and tests, and reports results.\n",
            "*   **Build Scripts (e.g., Make, Maven, Gradle):**  Scripts that define the steps required to compile and package the code.\n",
            "*   **Test Automation Frameworks (e.g., JUnit, pytest, Selenium):** Tools for writing and running automated tests.\n",
            "\n",
            "**How it Works (Typical CI Workflow):**\n",
            "\n",
            "1.  A developer commits code changes to the shared repository (e.g., Git).\n",
            "2.  The CI server detects the commit and triggers a new build.\n",
            "3.  The CI server executes the build script, which compiles the code and packages it.\n",
            "4.  The CI server runs the automated tests.\n",
            "5.  The CI server reports the results of the build and tests to the developers.\n",
            "6.  If the build or tests fail, the developers fix the issues and commit the changes again.\n",
            "7.  The process repeats.\n",
            "\n",
            "**Example using Jenkins:**\n",
            "\n",
            "1.  Developers push code to a Git repository.\n",
            "2.  Jenkins is configured to watch the Git repository for changes.\n",
            "3.  When Jenkins detects a new commit, it checks out the code.\n",
            "4.  Jenkins executes a build script (e.g., using Maven or Gradle) to compile the code.\n",
            "5.  Jenkins runs automated tests (e.g., JUnit tests).\n",
            "6.  Jenkins reports the results of the build and tests in the Jenkins dashboard and sends notifications to developers.\n",
            "\n",
            "**In summary,** Continuous Integration is a core DevOps practice that promotes frequent code integration, automated builds and tests, and fast feedback, leading to improved software quality and faster release cycles.\n",
            "\n"
          ]
        }
      ]
    },
    {
      "cell_type": "code",
      "source": [
        "response.last_agent"
      ],
      "metadata": {
        "collapsed": true,
        "colab": {
          "base_uri": "https://localhost:8080/"
        },
        "id": "cYH3D1hAMCsA",
        "outputId": "29a48eae-c2ef-4620-9083-d2116cd9ae1c"
      },
      "execution_count": 85,
      "outputs": [
        {
          "output_type": "execute_result",
          "data": {
            "text/plain": [
              "Agent(name='Agentic AI Assistant', instructions='\\nYou are a helpful and knowledgeable assistant specializing in DevOps.\\nYour job is to explain DevOps concepts such as CI/CD, infrastructure as code, automation, containerization (Docker, Kubernetes), monitoring, deployment pipelines, GitOps, and related tools like Jenkins, GitHub Actions, and Terraform.\\nProvide accurate, beginner-friendly explanations and assist learners at all levels.\\n', handoff_description='Agentic AI Expert', handoffs=[], model=<agents.models.openai_chatcompletions.OpenAIChatCompletionsModel object at 0x7fe8db68d450>, model_settings=ModelSettings(temperature=None, top_p=None, frequency_penalty=None, presence_penalty=None, tool_choice=None, parallel_tool_calls=None, truncation=None, max_tokens=None, reasoning=None, metadata=None, store=None, include_usage=None, extra_query=None, extra_body=None, extra_headers=None), tools=[FunctionTool(name='devops_expert_tool', description='Explains DevOps concepts and tools like CI/CD, Docker, Jenkins, and more.', params_json_schema={'properties': {'input': {'title': 'Input', 'type': 'string'}}, 'required': ['input'], 'title': 'devops_expert_tool_args', 'type': 'object', 'additionalProperties': False}, on_invoke_tool=<function function_tool.<locals>._create_function_tool.<locals>._on_invoke_tool at 0x7fe8db2c9b20>, strict_json_schema=True), FunctionTool(name='openai_tech_tool', description='Shares updates and insights on OpenAI technologies, including GPT and APIs.', params_json_schema={'properties': {'input': {'title': 'Input', 'type': 'string'}}, 'required': ['input'], 'title': 'openai_tech_tool_args', 'type': 'object', 'additionalProperties': False}, on_invoke_tool=<function function_tool.<locals>._create_function_tool.<locals>._on_invoke_tool at 0x7fe8db2c9f80>, strict_json_schema=True)], mcp_servers=[], mcp_config={}, input_guardrails=[], output_guardrails=[], output_type=None, hooks=None, tool_use_behavior='run_llm_again', reset_tool_choice=True)"
            ]
          },
          "metadata": {},
          "execution_count": 85
        }
      ]
    },
    {
      "cell_type": "code",
      "source": [
        "from agents import Agent, function_tool\n",
        "from agents.extensions.visualization import draw_graph\n",
        "\n",
        "draw_graph(triage_Agent)"
      ],
      "metadata": {
        "colab": {
          "base_uri": "https://localhost:8080/",
          "height": 417
        },
        "id": "iDDWOBGFIxp5",
        "outputId": "c81d7351-aba9-4ac2-e099-c3be9d0cdd5c"
      },
      "execution_count": 86,
      "outputs": [
        {
          "output_type": "execute_result",
          "data": {
            "image/svg+xml": "<?xml version=\"1.0\" encoding=\"UTF-8\" standalone=\"no\"?>\n<!DOCTYPE svg PUBLIC \"-//W3C//DTD SVG 1.1//EN\"\n \"http://www.w3.org/Graphics/SVG/1.1/DTD/svg11.dtd\">\n<!-- Generated by graphviz version 2.43.0 (0)\n -->\n<!-- Title: G Pages: 1 -->\n<svg width=\"747pt\" height=\"297pt\"\n viewBox=\"0.00 0.00 746.65 297.05\" xmlns=\"http://www.w3.org/2000/svg\" xmlns:xlink=\"http://www.w3.org/1999/xlink\">\n<g id=\"graph0\" class=\"graph\" transform=\"scale(1 1) rotate(0) translate(4 293.05)\">\n<title>G</title>\n<polygon fill=\"white\" stroke=\"transparent\" points=\"-4,4 -4,-293.05 742.65,-293.05 742.65,4 -4,4\"/>\n<!-- __start__ -->\n<g id=\"node1\" class=\"node\">\n<title>__start__</title>\n<ellipse fill=\"lightblue\" stroke=\"black\" cx=\"284.5\" cy=\"-272.79\" rx=\"51.74\" ry=\"16.03\"/>\n<text text-anchor=\"middle\" x=\"284.5\" y=\"-269.09\" font-family=\"Arial\" font-size=\"14.00\">__start__</text>\n</g>\n<!-- triage_Agent -->\n<g id=\"node3\" class=\"node\">\n<title>triage_Agent</title>\n<polygon fill=\"lightyellow\" stroke=\"black\" points=\"338.5,-220.53 230.5,-220.53 230.5,-162.53 338.5,-162.53 338.5,-220.53\"/>\n<text text-anchor=\"middle\" x=\"284.5\" y=\"-187.83\" font-family=\"Arial\" font-size=\"14.00\">triage_Agent</text>\n</g>\n<!-- __start__&#45;&gt;triage_Agent -->\n<g id=\"edge1\" class=\"edge\">\n<title>__start__&#45;&gt;triage_Agent</title>\n<path fill=\"none\" stroke=\"black\" stroke-width=\"1.5\" d=\"M284.5,-256.51C284.5,-249.12 284.5,-239.89 284.5,-230.76\"/>\n<polygon fill=\"black\" stroke=\"black\" stroke-width=\"1.5\" points=\"288,-230.6 284.5,-220.6 281,-230.6 288,-230.6\"/>\n</g>\n<!-- __end__ -->\n<g id=\"node2\" class=\"node\">\n<title>__end__</title>\n<ellipse fill=\"lightblue\" stroke=\"black\" cx=\"284.5\" cy=\"-16.26\" rx=\"48.58\" ry=\"16.03\"/>\n<text text-anchor=\"middle\" x=\"284.5\" y=\"-12.56\" font-family=\"Arial\" font-size=\"14.00\">__end__</text>\n</g>\n<!-- Web Developer Assistant -->\n<g id=\"node4\" class=\"node\">\n<title>Web Developer Assistant</title>\n<polygon fill=\"lightyellow\" stroke=\"black\" points=\"167,-126.53 0,-126.53 0,-68.53 167,-68.53 167,-126.53\"/>\n<text text-anchor=\"middle\" x=\"83.5\" y=\"-93.83\" font-family=\"Arial\" font-size=\"14.00\">Web Developer Assistant</text>\n</g>\n<!-- triage_Agent&#45;&gt;Web Developer Assistant -->\n<g id=\"edge2\" class=\"edge\">\n<title>triage_Agent&#45;&gt;Web Developer Assistant</title>\n<path fill=\"none\" stroke=\"black\" stroke-width=\"1.5\" d=\"M230.37,-165.75C206.86,-154.99 179.02,-142.25 153.93,-130.76\"/>\n<polygon fill=\"black\" stroke=\"black\" stroke-width=\"1.5\" points=\"155.38,-127.58 144.83,-126.6 152.46,-133.94 155.38,-127.58\"/>\n</g>\n<!-- Mobile Development Assistant -->\n<g id=\"node5\" class=\"node\">\n<title>Mobile Development Assistant</title>\n<polygon fill=\"lightyellow\" stroke=\"black\" points=\"384,-126.53 185,-126.53 185,-68.53 384,-68.53 384,-126.53\"/>\n<text text-anchor=\"middle\" x=\"284.5\" y=\"-93.83\" font-family=\"Arial\" font-size=\"14.00\">Mobile Development Assistant</text>\n</g>\n<!-- triage_Agent&#45;&gt;Mobile Development Assistant -->\n<g id=\"edge4\" class=\"edge\">\n<title>triage_Agent&#45;&gt;Mobile Development Assistant</title>\n<path fill=\"none\" stroke=\"black\" stroke-width=\"1.5\" d=\"M284.5,-162.42C284.5,-154.38 284.5,-145.48 284.5,-136.94\"/>\n<polygon fill=\"black\" stroke=\"black\" stroke-width=\"1.5\" points=\"288,-136.77 284.5,-126.77 281,-136.77 288,-136.77\"/>\n</g>\n<!-- Agentic AI Assistant -->\n<g id=\"node6\" class=\"node\">\n<title>Agentic AI Assistant</title>\n<polygon fill=\"lightyellow\" stroke=\"black\" points=\"537,-126.53 402,-126.53 402,-68.53 537,-68.53 537,-126.53\"/>\n<text text-anchor=\"middle\" x=\"469.5\" y=\"-93.83\" font-family=\"Arial\" font-size=\"14.00\">Agentic AI Assistant</text>\n</g>\n<!-- triage_Agent&#45;&gt;Agentic AI Assistant -->\n<g id=\"edge6\" class=\"edge\">\n<title>triage_Agent&#45;&gt;Agentic AI Assistant</title>\n<path fill=\"none\" stroke=\"black\" stroke-width=\"1.5\" d=\"M338.51,-163.67C359.04,-153.46 382.65,-141.72 404.12,-131.04\"/>\n<polygon fill=\"black\" stroke=\"black\" stroke-width=\"1.5\" points=\"405.78,-134.12 413.17,-126.54 402.66,-127.86 405.78,-134.12\"/>\n</g>\n<!-- Web Developer Assistant&#45;&gt;__end__ -->\n<g id=\"edge3\" class=\"edge\">\n<title>Web Developer Assistant&#45;&gt;__end__</title>\n<path fill=\"none\" stroke=\"black\" stroke-width=\"1.5\" d=\"M154.65,-68.47C184.99,-56.5 219.25,-43 244.95,-32.86\"/>\n<polygon fill=\"black\" stroke=\"black\" stroke-width=\"1.5\" points=\"246.34,-36.07 254.36,-29.15 243.77,-29.56 246.34,-36.07\"/>\n</g>\n<!-- Mobile Development Assistant&#45;&gt;__end__ -->\n<g id=\"edge5\" class=\"edge\">\n<title>Mobile Development Assistant&#45;&gt;__end__</title>\n<path fill=\"none\" stroke=\"black\" stroke-width=\"1.5\" d=\"M284.5,-68.36C284.5,-60.07 284.5,-51.04 284.5,-42.92\"/>\n<polygon fill=\"black\" stroke=\"black\" stroke-width=\"1.5\" points=\"288,-42.89 284.5,-32.89 281,-42.89 288,-42.89\"/>\n</g>\n<!-- Agentic AI Assistant&#45;&gt;__end__ -->\n<g id=\"edge11\" class=\"edge\">\n<title>Agentic AI Assistant&#45;&gt;__end__</title>\n<path fill=\"none\" stroke=\"black\" stroke-width=\"1.5\" d=\"M404.02,-68.47C376.79,-56.81 346.15,-43.68 322.7,-33.63\"/>\n<polygon fill=\"black\" stroke=\"black\" stroke-width=\"1.5\" points=\"324.02,-30.39 313.45,-29.67 321.26,-36.82 324.02,-30.39\"/>\n</g>\n<!-- devops_expert_tool -->\n<g id=\"node7\" class=\"node\">\n<title>devops_expert_tool</title>\n<ellipse fill=\"lightgreen\" stroke=\"black\" cx=\"457.5\" cy=\"-16.26\" rx=\"94.51\" ry=\"16.03\"/>\n<text text-anchor=\"middle\" x=\"457.5\" y=\"-12.56\" font-family=\"Arial\" font-size=\"14.00\">devops_expert_tool</text>\n</g>\n<!-- Agentic AI Assistant&#45;&gt;devops_expert_tool -->\n<g id=\"edge7\" class=\"edge\">\n<title>Agentic AI Assistant&#45;&gt;devops_expert_tool</title>\n<path fill=\"none\" stroke=\"black\" stroke-width=\"1.5\" stroke-dasharray=\"1,5\" d=\"M458.74,-68.36C457.11,-60.07 455.78,-51.04 455.02,-42.92\"/>\n<polygon fill=\"black\" stroke=\"black\" stroke-width=\"1.5\" points=\"458.51,-42.64 454.37,-32.89 451.53,-43.1 458.51,-42.64\"/>\n</g>\n<!-- openai_tech_tool -->\n<g id=\"node8\" class=\"node\">\n<title>openai_tech_tool</title>\n<ellipse fill=\"lightgreen\" stroke=\"black\" cx=\"654.5\" cy=\"-16.26\" rx=\"84.29\" ry=\"16.03\"/>\n<text text-anchor=\"middle\" x=\"654.5\" y=\"-12.56\" font-family=\"Arial\" font-size=\"14.00\">openai_tech_tool</text>\n</g>\n<!-- Agentic AI Assistant&#45;&gt;openai_tech_tool -->\n<g id=\"edge9\" class=\"edge\">\n<title>Agentic AI Assistant&#45;&gt;openai_tech_tool</title>\n<path fill=\"none\" stroke=\"black\" stroke-width=\"1.5\" stroke-dasharray=\"1,5\" d=\"M528.5,-68.47C554.22,-57.23 583.9,-44.62 608.03,-34.73\"/>\n<polygon fill=\"black\" stroke=\"black\" stroke-width=\"1.5\" points=\"609.38,-37.96 617.33,-30.94 606.74,-31.47 609.38,-37.96\"/>\n</g>\n<!-- devops_expert_tool&#45;&gt;Agentic AI Assistant -->\n<g id=\"edge8\" class=\"edge\">\n<title>devops_expert_tool&#45;&gt;Agentic AI Assistant</title>\n<path fill=\"none\" stroke=\"black\" stroke-width=\"1.5\" stroke-dasharray=\"1,5\" d=\"M465.37,-32.89C467.36,-40.23 469.15,-49.33 470.46,-58.34\"/>\n<polygon fill=\"black\" stroke=\"black\" stroke-width=\"1.5\" points=\"467,-58.87 471.73,-68.36 473.95,-58 467,-58.87\"/>\n</g>\n<!-- openai_tech_tool&#45;&gt;Agentic AI Assistant -->\n<g id=\"edge10\" class=\"edge\">\n<title>openai_tech_tool&#45;&gt;Agentic AI Assistant</title>\n<path fill=\"none\" stroke=\"black\" stroke-width=\"1.5\" stroke-dasharray=\"1,5\" d=\"M625.91,-31.81C604.65,-41.45 574.7,-54.46 546.66,-66.29\"/>\n<polygon fill=\"black\" stroke=\"black\" stroke-width=\"1.5\" points=\"545.11,-63.14 537.24,-70.24 547.82,-69.6 545.11,-63.14\"/>\n</g>\n</g>\n</svg>\n",
            "text/plain": [
              "<graphviz.sources.Source at 0x7fe8db22b7d0>"
            ]
          },
          "metadata": {},
          "execution_count": 86
        }
      ]
    }
  ]
}